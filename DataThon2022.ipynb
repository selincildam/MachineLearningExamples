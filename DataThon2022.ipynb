{
 "cells": [
  {
   "cell_type": "code",
   "execution_count": 1,
   "id": "292ff70c",
   "metadata": {},
   "outputs": [],
   "source": [
    "#Kütüphanelerin içe aktarılması\n",
    "import numpy as np\n",
    "import pandas as pd\n",
    "import matplotlib.pyplot as plt\n",
    "import seaborn as sns\n",
    "from sklearn import preprocessing #Etiketleme için\n",
    "from sklearn.preprocessing import StandardScaler\n",
    "from sklearn.preprocessing import PolynomialFeatures \n",
    "from sklearn.linear_model import LinearRegression\n",
    "from sklearn import linear_model"
   ]
  },
  {
   "cell_type": "code",
   "execution_count": 2,
   "id": "f24b382a",
   "metadata": {},
   "outputs": [],
   "source": [
    "#Keşifsel veri analizi (EDA)\n",
    "#Verilerin okunması\n",
    "train=pd.read_csv('C:/datathon/train.csv')\n",
    "test=pd.read_csv('C:/datathon/testFeatures.csv')"
   ]
  },
  {
   "cell_type": "code",
   "execution_count": 3,
   "id": "0585a9f4",
   "metadata": {},
   "outputs": [
    {
     "data": {
      "text/html": [
       "<div>\n",
       "<style scoped>\n",
       "    .dataframe tbody tr th:only-of-type {\n",
       "        vertical-align: middle;\n",
       "    }\n",
       "\n",
       "    .dataframe tbody tr th {\n",
       "        vertical-align: top;\n",
       "    }\n",
       "\n",
       "    .dataframe thead th {\n",
       "        text-align: right;\n",
       "    }\n",
       "</style>\n",
       "<table border=\"1\" class=\"dataframe\">\n",
       "  <thead>\n",
       "    <tr style=\"text-align: right;\">\n",
       "      <th></th>\n",
       "      <th>tarih</th>\n",
       "      <th>ürün</th>\n",
       "      <th>ürün besin değeri</th>\n",
       "      <th>ürün kategorisi</th>\n",
       "      <th>ürün fiyatı</th>\n",
       "      <th>ürün üretim yeri</th>\n",
       "      <th>market</th>\n",
       "      <th>şehir</th>\n",
       "    </tr>\n",
       "  </thead>\n",
       "  <tbody>\n",
       "    <tr>\n",
       "      <th>0</th>\n",
       "      <td>2016-01-01</td>\n",
       "      <td>kıyma</td>\n",
       "      <td>120</td>\n",
       "      <td>et</td>\n",
       "      <td>33.41</td>\n",
       "      <td>Yurt içi</td>\n",
       "      <td>M</td>\n",
       "      <td>A</td>\n",
       "    </tr>\n",
       "    <tr>\n",
       "      <th>1</th>\n",
       "      <td>2016-01-01</td>\n",
       "      <td>tavuk</td>\n",
       "      <td>103</td>\n",
       "      <td>et</td>\n",
       "      <td>11.22</td>\n",
       "      <td>Yurt içi</td>\n",
       "      <td>M</td>\n",
       "      <td>A</td>\n",
       "    </tr>\n",
       "    <tr>\n",
       "      <th>2</th>\n",
       "      <td>2016-01-01</td>\n",
       "      <td>hindi</td>\n",
       "      <td>160</td>\n",
       "      <td>et</td>\n",
       "      <td>11.12</td>\n",
       "      <td>Yurt içi</td>\n",
       "      <td>M</td>\n",
       "      <td>A</td>\n",
       "    </tr>\n",
       "    <tr>\n",
       "      <th>3</th>\n",
       "      <td>2016-01-01</td>\n",
       "      <td>Bakla-kuru</td>\n",
       "      <td>354</td>\n",
       "      <td>sebze ve bakliyat</td>\n",
       "      <td>7.02</td>\n",
       "      <td>Yurt içi</td>\n",
       "      <td>M</td>\n",
       "      <td>A</td>\n",
       "    </tr>\n",
       "    <tr>\n",
       "      <th>4</th>\n",
       "      <td>2016-01-01</td>\n",
       "      <td>Bakla-taze</td>\n",
       "      <td>72</td>\n",
       "      <td>sebze ve bakliyat</td>\n",
       "      <td>13.14</td>\n",
       "      <td>Yurt içi</td>\n",
       "      <td>M</td>\n",
       "      <td>A</td>\n",
       "    </tr>\n",
       "  </tbody>\n",
       "</table>\n",
       "</div>"
      ],
      "text/plain": [
       "        tarih        ürün  ürün besin değeri    ürün kategorisi  ürün fiyatı  \\\n",
       "0  2016-01-01       kıyma                120                 et        33.41   \n",
       "1  2016-01-01       tavuk                103                 et        11.22   \n",
       "2  2016-01-01       hindi                160                 et        11.12   \n",
       "3  2016-01-01  Bakla-kuru                354  sebze ve bakliyat         7.02   \n",
       "4  2016-01-01  Bakla-taze                 72  sebze ve bakliyat        13.14   \n",
       "\n",
       "  ürün üretim yeri market şehir  \n",
       "0         Yurt içi      M     A  \n",
       "1         Yurt içi      M     A  \n",
       "2         Yurt içi      M     A  \n",
       "3         Yurt içi      M     A  \n",
       "4         Yurt içi      M     A  "
      ]
     },
     "execution_count": 3,
     "metadata": {},
     "output_type": "execute_result"
    }
   ],
   "source": [
    "#Veriyi görüntüleme\n",
    "train.head()"
   ]
  },
  {
   "cell_type": "code",
   "execution_count": 4,
   "id": "daf9cb41",
   "metadata": {},
   "outputs": [
    {
     "data": {
      "text/html": [
       "<div>\n",
       "<style scoped>\n",
       "    .dataframe tbody tr th:only-of-type {\n",
       "        vertical-align: middle;\n",
       "    }\n",
       "\n",
       "    .dataframe tbody tr th {\n",
       "        vertical-align: top;\n",
       "    }\n",
       "\n",
       "    .dataframe thead th {\n",
       "        text-align: right;\n",
       "    }\n",
       "</style>\n",
       "<table border=\"1\" class=\"dataframe\">\n",
       "  <thead>\n",
       "    <tr style=\"text-align: right;\">\n",
       "      <th></th>\n",
       "      <th>tarih</th>\n",
       "      <th>ürün</th>\n",
       "      <th>ürün besin değeri</th>\n",
       "      <th>ürün kategorisi</th>\n",
       "      <th>ürün fiyatı</th>\n",
       "      <th>ürün üretim yeri</th>\n",
       "      <th>market</th>\n",
       "      <th>şehir</th>\n",
       "    </tr>\n",
       "  </thead>\n",
       "  <tbody>\n",
       "    <tr>\n",
       "      <th>227515</th>\n",
       "      <td>2020-12-01</td>\n",
       "      <td>fındık</td>\n",
       "      <td>110</td>\n",
       "      <td>kuruyemiş</td>\n",
       "      <td>51.19</td>\n",
       "      <td>Yurt dışı</td>\n",
       "      <td>B</td>\n",
       "      <td>H</td>\n",
       "    </tr>\n",
       "    <tr>\n",
       "      <th>227516</th>\n",
       "      <td>2020-12-01</td>\n",
       "      <td>fıstık</td>\n",
       "      <td>115</td>\n",
       "      <td>kuruyemiş</td>\n",
       "      <td>55.14</td>\n",
       "      <td>Yurt dışı</td>\n",
       "      <td>B</td>\n",
       "      <td>H</td>\n",
       "    </tr>\n",
       "    <tr>\n",
       "      <th>227517</th>\n",
       "      <td>2020-12-01</td>\n",
       "      <td>kaju</td>\n",
       "      <td>100</td>\n",
       "      <td>kuruyemiş</td>\n",
       "      <td>58.60</td>\n",
       "      <td>Yurt dışı</td>\n",
       "      <td>B</td>\n",
       "      <td>H</td>\n",
       "    </tr>\n",
       "    <tr>\n",
       "      <th>227518</th>\n",
       "      <td>2020-12-01</td>\n",
       "      <td>badem</td>\n",
       "      <td>110</td>\n",
       "      <td>kuruyemiş</td>\n",
       "      <td>51.83</td>\n",
       "      <td>Yurt dışı</td>\n",
       "      <td>B</td>\n",
       "      <td>H</td>\n",
       "    </tr>\n",
       "    <tr>\n",
       "      <th>227519</th>\n",
       "      <td>2020-12-01</td>\n",
       "      <td>ceviz</td>\n",
       "      <td>120</td>\n",
       "      <td>kuruyemiş</td>\n",
       "      <td>57.22</td>\n",
       "      <td>Yurt dışı</td>\n",
       "      <td>B</td>\n",
       "      <td>H</td>\n",
       "    </tr>\n",
       "  </tbody>\n",
       "</table>\n",
       "</div>"
      ],
      "text/plain": [
       "             tarih    ürün  ürün besin değeri ürün kategorisi  ürün fiyatı  \\\n",
       "227515  2020-12-01  fındık                110       kuruyemiş        51.19   \n",
       "227516  2020-12-01  fıstık                115       kuruyemiş        55.14   \n",
       "227517  2020-12-01    kaju                100       kuruyemiş        58.60   \n",
       "227518  2020-12-01   badem                110       kuruyemiş        51.83   \n",
       "227519  2020-12-01   ceviz                120       kuruyemiş        57.22   \n",
       "\n",
       "       ürün üretim yeri market şehir  \n",
       "227515        Yurt dışı      B     H  \n",
       "227516        Yurt dışı      B     H  \n",
       "227517        Yurt dışı      B     H  \n",
       "227518        Yurt dışı      B     H  \n",
       "227519        Yurt dışı      B     H  "
      ]
     },
     "execution_count": 4,
     "metadata": {},
     "output_type": "execute_result"
    }
   ],
   "source": [
    "#Veriyi görüntüleme\n",
    "train.tail()"
   ]
  },
  {
   "cell_type": "code",
   "execution_count": 5,
   "id": "ba770dc5",
   "metadata": {},
   "outputs": [
    {
     "name": "stdout",
     "output_type": "stream",
     "text": [
      "<class 'pandas.core.frame.DataFrame'>\n",
      "RangeIndex: 227520 entries, 0 to 227519\n",
      "Data columns (total 8 columns):\n",
      " #   Column             Non-Null Count   Dtype  \n",
      "---  ------             --------------   -----  \n",
      " 0   tarih              227520 non-null  object \n",
      " 1   ürün               227520 non-null  object \n",
      " 2   ürün besin değeri  227520 non-null  int64  \n",
      " 3   ürün kategorisi    227520 non-null  object \n",
      " 4   ürün fiyatı        227520 non-null  float64\n",
      " 5   ürün üretim yeri   227520 non-null  object \n",
      " 6   market             227520 non-null  object \n",
      " 7   şehir              227520 non-null  object \n",
      "dtypes: float64(1), int64(1), object(6)\n",
      "memory usage: 13.9+ MB\n"
     ]
    }
   ],
   "source": [
    "#Data alanlarımız hakkında bilgi \n",
    "train.info()"
   ]
  },
  {
   "cell_type": "code",
   "execution_count": 6,
   "id": "06a91c4a",
   "metadata": {},
   "outputs": [
    {
     "name": "stdout",
     "output_type": "stream",
     "text": [
      "<class 'pandas.core.frame.DataFrame'>\n",
      "RangeIndex: 45504 entries, 0 to 45503\n",
      "Data columns (total 8 columns):\n",
      " #   Column             Non-Null Count  Dtype \n",
      "---  ------             --------------  ----- \n",
      " 0   id                 45504 non-null  int64 \n",
      " 1   tarih              45504 non-null  object\n",
      " 2   ürün               45504 non-null  object\n",
      " 3   ürün besin değeri  45504 non-null  int64 \n",
      " 4   ürün kategorisi    45504 non-null  object\n",
      " 5   ürün üretim yeri   45504 non-null  object\n",
      " 6   market             45504 non-null  object\n",
      " 7   şehir              45504 non-null  object\n",
      "dtypes: int64(2), object(6)\n",
      "memory usage: 2.8+ MB\n"
     ]
    }
   ],
   "source": [
    "test.info()"
   ]
  },
  {
   "cell_type": "code",
   "execution_count": 7,
   "id": "d0792ed5",
   "metadata": {},
   "outputs": [
    {
     "data": {
      "text/plain": [
       "tarih                0\n",
       "ürün                 0\n",
       "ürün besin değeri    0\n",
       "ürün kategorisi      0\n",
       "ürün fiyatı          0\n",
       "ürün üretim yeri     0\n",
       "market               0\n",
       "şehir                0\n",
       "dtype: int64"
      ]
     },
     "execution_count": 7,
     "metadata": {},
     "output_type": "execute_result"
    }
   ],
   "source": [
    "train.isna().sum()"
   ]
  },
  {
   "cell_type": "code",
   "execution_count": 8,
   "id": "9cd22944",
   "metadata": {},
   "outputs": [
    {
     "data": {
      "text/html": [
       "<div>\n",
       "<style scoped>\n",
       "    .dataframe tbody tr th:only-of-type {\n",
       "        vertical-align: middle;\n",
       "    }\n",
       "\n",
       "    .dataframe tbody tr th {\n",
       "        vertical-align: top;\n",
       "    }\n",
       "\n",
       "    .dataframe thead th {\n",
       "        text-align: right;\n",
       "    }\n",
       "</style>\n",
       "<table border=\"1\" class=\"dataframe\">\n",
       "  <thead>\n",
       "    <tr style=\"text-align: right;\">\n",
       "      <th></th>\n",
       "      <th>tarih</th>\n",
       "      <th>ürün</th>\n",
       "      <th>ürün kategorisi</th>\n",
       "      <th>ürün üretim yeri</th>\n",
       "      <th>market</th>\n",
       "      <th>şehir</th>\n",
       "    </tr>\n",
       "  </thead>\n",
       "  <tbody>\n",
       "    <tr>\n",
       "      <th>count</th>\n",
       "      <td>227520</td>\n",
       "      <td>227520</td>\n",
       "      <td>227520</td>\n",
       "      <td>227520</td>\n",
       "      <td>227520</td>\n",
       "      <td>227520</td>\n",
       "    </tr>\n",
       "    <tr>\n",
       "      <th>unique</th>\n",
       "      <td>60</td>\n",
       "      <td>79</td>\n",
       "      <td>6</td>\n",
       "      <td>2</td>\n",
       "      <td>3</td>\n",
       "      <td>8</td>\n",
       "    </tr>\n",
       "    <tr>\n",
       "      <th>top</th>\n",
       "      <td>2016-01-01</td>\n",
       "      <td>kıyma</td>\n",
       "      <td>sebze ve bakliyat</td>\n",
       "      <td>Yurt içi</td>\n",
       "      <td>M</td>\n",
       "      <td>A</td>\n",
       "    </tr>\n",
       "    <tr>\n",
       "      <th>freq</th>\n",
       "      <td>3792</td>\n",
       "      <td>2880</td>\n",
       "      <td>83520</td>\n",
       "      <td>113760</td>\n",
       "      <td>75840</td>\n",
       "      <td>28440</td>\n",
       "    </tr>\n",
       "  </tbody>\n",
       "</table>\n",
       "</div>"
      ],
      "text/plain": [
       "             tarih    ürün    ürün kategorisi ürün üretim yeri  market   şehir\n",
       "count       227520  227520             227520           227520  227520  227520\n",
       "unique          60      79                  6                2       3       8\n",
       "top     2016-01-01   kıyma  sebze ve bakliyat         Yurt içi       M       A\n",
       "freq          3792    2880              83520           113760   75840   28440"
      ]
     },
     "execution_count": 8,
     "metadata": {},
     "output_type": "execute_result"
    }
   ],
   "source": [
    "#Kategorik sütunları görüntüleme\n",
    "train.describe(include=['O'])"
   ]
  },
  {
   "cell_type": "code",
   "execution_count": 3,
   "id": "b77f0ebe",
   "metadata": {},
   "outputs": [],
   "source": [
    "#tarih sütunundan yil ve ay bilgilerini almak\n",
    "train[\"tarih\"]=pd.to_datetime(train[\"tarih\"])"
   ]
  },
  {
   "cell_type": "code",
   "execution_count": 4,
   "id": "91bc524a",
   "metadata": {},
   "outputs": [],
   "source": [
    "train[\"yil\"]=train[\"tarih\"].dt.year\n",
    "train[\"ay\"]=train[\"tarih\"].dt.month\n",
    "train[\"gun\"]=train[\"tarih\"].dt.year"
   ]
  },
  {
   "cell_type": "code",
   "execution_count": 5,
   "id": "54a78bad",
   "metadata": {},
   "outputs": [],
   "source": [
    "#test datası için tarih sütunundan yil ve ay bilgilerini almak\n",
    "train[\"tarih\"]=pd.to_datetime(train[\"tarih\"])"
   ]
  },
  {
   "cell_type": "code",
   "execution_count": 12,
   "id": "1aec44da",
   "metadata": {},
   "outputs": [
    {
     "data": {
      "text/plain": [
       "tarih                datetime64[ns]\n",
       "ürün                         object\n",
       "ürün besin değeri             int64\n",
       "ürün kategorisi              object\n",
       "ürün fiyatı                 float64\n",
       "ürün üretim yeri             object\n",
       "market                       object\n",
       "şehir                        object\n",
       "yil                           int64\n",
       "ay                            int64\n",
       "gun                           int64\n",
       "dtype: object"
      ]
     },
     "execution_count": 12,
     "metadata": {},
     "output_type": "execute_result"
    }
   ],
   "source": [
    "train.dtypes"
   ]
  },
  {
   "cell_type": "code",
   "execution_count": 13,
   "id": "afe96ed5",
   "metadata": {},
   "outputs": [
    {
     "data": {
      "image/png": "[encoded data removed]",
      "text/plain": [
       "<Figure size 576x576 with 2 Axes>"
      ]
     },
     "metadata": {
      "needs_background": "light"
     },
     "output_type": "display_data"
    }
   ],
   "source": [
    "#sayısal alanlardaki korelasyon\n",
    "corr_1 =train.corr()\n",
    "fig, ax = plt.subplots(figsize=(8, 8))\n",
    "sns.heatmap(corr_1, linewidths=.5, annot=True, fmt=\".2f\")\n",
    "plt.show()"
   ]
  },
  {
   "cell_type": "code",
   "execution_count": 7,
   "id": "1c6d1b83",
   "metadata": {},
   "outputs": [
    {
     "data": {
      "text/html": [
       "<div>\n",
       "<style scoped>\n",
       "    .dataframe tbody tr th:only-of-type {\n",
       "        vertical-align: middle;\n",
       "    }\n",
       "\n",
       "    .dataframe tbody tr th {\n",
       "        vertical-align: top;\n",
       "    }\n",
       "\n",
       "    .dataframe thead th {\n",
       "        text-align: right;\n",
       "    }\n",
       "</style>\n",
       "<table border=\"1\" class=\"dataframe\">\n",
       "  <thead>\n",
       "    <tr style=\"text-align: right;\">\n",
       "      <th></th>\n",
       "      <th></th>\n",
       "      <th>ürün fiyatı</th>\n",
       "    </tr>\n",
       "    <tr>\n",
       "      <th>ürün kategorisi</th>\n",
       "      <th>market</th>\n",
       "      <th></th>\n",
       "    </tr>\n",
       "  </thead>\n",
       "  <tbody>\n",
       "    <tr>\n",
       "      <th rowspan=\"3\" valign=\"top\">et</th>\n",
       "      <th>B</th>\n",
       "      <td>35.995198</td>\n",
       "    </tr>\n",
       "    <tr>\n",
       "      <th>C</th>\n",
       "      <td>35.507347</td>\n",
       "    </tr>\n",
       "    <tr>\n",
       "      <th>M</th>\n",
       "      <td>35.666330</td>\n",
       "    </tr>\n",
       "    <tr>\n",
       "      <th rowspan=\"3\" valign=\"top\">kuruyemiş</th>\n",
       "      <th>B</th>\n",
       "      <td>30.014744</td>\n",
       "    </tr>\n",
       "    <tr>\n",
       "      <th>C</th>\n",
       "      <td>30.032744</td>\n",
       "    </tr>\n",
       "    <tr>\n",
       "      <th>M</th>\n",
       "      <td>30.099960</td>\n",
       "    </tr>\n",
       "    <tr>\n",
       "      <th rowspan=\"3\" valign=\"top\">meyve</th>\n",
       "      <th>B</th>\n",
       "      <td>9.992151</td>\n",
       "    </tr>\n",
       "    <tr>\n",
       "      <th>C</th>\n",
       "      <td>9.958138</td>\n",
       "    </tr>\n",
       "    <tr>\n",
       "      <th>M</th>\n",
       "      <td>10.028312</td>\n",
       "    </tr>\n",
       "    <tr>\n",
       "      <th rowspan=\"3\" valign=\"top\">sebze ve bakliyat</th>\n",
       "      <th>B</th>\n",
       "      <td>14.944694</td>\n",
       "    </tr>\n",
       "    <tr>\n",
       "      <th>C</th>\n",
       "      <td>14.904890</td>\n",
       "    </tr>\n",
       "    <tr>\n",
       "      <th>M</th>\n",
       "      <td>14.879722</td>\n",
       "    </tr>\n",
       "    <tr>\n",
       "      <th rowspan=\"3\" valign=\"top\">süt ürünleri ve kahvaltılık</th>\n",
       "      <th>B</th>\n",
       "      <td>25.818628</td>\n",
       "    </tr>\n",
       "    <tr>\n",
       "      <th>C</th>\n",
       "      <td>25.539446</td>\n",
       "    </tr>\n",
       "    <tr>\n",
       "      <th>M</th>\n",
       "      <td>25.500941</td>\n",
       "    </tr>\n",
       "    <tr>\n",
       "      <th rowspan=\"3\" valign=\"top\">tahıl ve ürünleri</th>\n",
       "      <th>B</th>\n",
       "      <td>9.535002</td>\n",
       "    </tr>\n",
       "    <tr>\n",
       "      <th>C</th>\n",
       "      <td>9.521207</td>\n",
       "    </tr>\n",
       "    <tr>\n",
       "      <th>M</th>\n",
       "      <td>9.552688</td>\n",
       "    </tr>\n",
       "  </tbody>\n",
       "</table>\n",
       "</div>"
      ],
      "text/plain": [
       "                                    ürün fiyatı\n",
       "ürün kategorisi             market             \n",
       "et                          B         35.995198\n",
       "                            C         35.507347\n",
       "                            M         35.666330\n",
       "kuruyemiş                   B         30.014744\n",
       "                            C         30.032744\n",
       "                            M         30.099960\n",
       "meyve                       B          9.992151\n",
       "                            C          9.958138\n",
       "                            M         10.028312\n",
       "sebze ve bakliyat           B         14.944694\n",
       "                            C         14.904890\n",
       "                            M         14.879722\n",
       "süt ürünleri ve kahvaltılık B         25.818628\n",
       "                            C         25.539446\n",
       "                            M         25.500941\n",
       "tahıl ve ürünleri           B          9.535002\n",
       "                            C          9.521207\n",
       "                            M          9.552688"
      ]
     },
     "execution_count": 7,
     "metadata": {},
     "output_type": "execute_result"
    }
   ],
   "source": [
    "market_fiyat= pd.DataFrame(train.groupby([\"ürün kategorisi\",\"market\"])[\"ürün fiyatı\"].mean())\n",
    "market_fiyat"
   ]
  },
  {
   "cell_type": "code",
   "execution_count": 8,
   "id": "751457b7",
   "metadata": {},
   "outputs": [
    {
     "data": {
      "text/plain": [
       "[None, None, None, None, None, None, None, None, None, None, None, None]"
      ]
     },
     "execution_count": 8,
     "metadata": {},
     "output_type": "execute_result"
    },
    {
     "data": {
      "image/png": "[encoded data removed]",
      "text/plain": [
       "<Figure size 432x288 with 1 Axes>"
      ]
     },
     "metadata": {
      "needs_background": "light"
     },
     "output_type": "display_data"
    }
   ],
   "source": [
    "ax=sns.barplot(y=\"ürün fiyatı\",x=\"ürün kategorisi\",hue=\"market\",data=market_fiyat.reset_index())\n",
    "locs, labels = plt.xticks()\n",
    "plt.setp(labels, rotation=90)"
   ]
  },
  {
   "cell_type": "code",
   "execution_count": 21,
   "id": "269a13ed",
   "metadata": {},
   "outputs": [],
   "source": [
    "#yer_fiyat.plot(kind='bar')"
   ]
  },
  {
   "cell_type": "code",
   "execution_count": 16,
   "id": "fbf6003b",
   "metadata": {},
   "outputs": [
    {
     "data": {
      "text/plain": [
       "Yurt içi     113760\n",
       "Yurt dışı    113760\n",
       "Name: ürün üretim yeri, dtype: int64"
      ]
     },
     "execution_count": 16,
     "metadata": {},
     "output_type": "execute_result"
    }
   ],
   "source": [
    "train[\"ürün üretim yeri\"].value_counts()"
   ]
  },
  {
   "cell_type": "code",
   "execution_count": 17,
   "id": "b3a64e9d",
   "metadata": {},
   "outputs": [
    {
     "data": {
      "text/plain": [
       "sebze ve bakliyat              83520\n",
       "meyve                          51840\n",
       "tahıl ve ürünleri              34560\n",
       "süt ürünleri ve kahvaltılık    34560\n",
       "kuruyemiş                      14400\n",
       "et                              8640\n",
       "Name: ürün kategorisi, dtype: int64"
      ]
     },
     "execution_count": 17,
     "metadata": {},
     "output_type": "execute_result"
    }
   ],
   "source": [
    "train[\"ürün kategorisi\"].value_counts()"
   ]
  },
  {
   "cell_type": "code",
   "execution_count": 18,
   "id": "2286eba1",
   "metadata": {},
   "outputs": [],
   "source": [
    "kategoriler=train[\"ürün kategorisi\"].unique()"
   ]
  },
  {
   "cell_type": "code",
   "execution_count": 9,
   "id": "9d2ee516",
   "metadata": {},
   "outputs": [],
   "source": [
    "#Üretim yerlerine ve kategorilerine göre gruplanmış ürünlerin ortalama fiyatı\n",
    "yer_fiyat= pd.DataFrame(train.groupby([\"ürün kategorisi\",\"ürün üretim yeri\"])[\"ürün fiyatı\"].mean())"
   ]
  },
  {
   "cell_type": "code",
   "execution_count": 20,
   "id": "6e65bcf5",
   "metadata": {},
   "outputs": [
    {
     "data": {
      "text/html": [
       "<div>\n",
       "<style scoped>\n",
       "    .dataframe tbody tr th:only-of-type {\n",
       "        vertical-align: middle;\n",
       "    }\n",
       "\n",
       "    .dataframe tbody tr th {\n",
       "        vertical-align: top;\n",
       "    }\n",
       "\n",
       "    .dataframe thead th {\n",
       "        text-align: right;\n",
       "    }\n",
       "</style>\n",
       "<table border=\"1\" class=\"dataframe\">\n",
       "  <thead>\n",
       "    <tr style=\"text-align: right;\">\n",
       "      <th></th>\n",
       "      <th></th>\n",
       "      <th>ürün fiyatı</th>\n",
       "    </tr>\n",
       "    <tr>\n",
       "      <th>ürün kategorisi</th>\n",
       "      <th>ürün üretim yeri</th>\n",
       "      <th></th>\n",
       "    </tr>\n",
       "  </thead>\n",
       "  <tbody>\n",
       "    <tr>\n",
       "      <th rowspan=\"2\" valign=\"top\">et</th>\n",
       "      <th>Yurt dışı</th>\n",
       "      <td>35.748868</td>\n",
       "    </tr>\n",
       "    <tr>\n",
       "      <th>Yurt içi</th>\n",
       "      <td>35.697049</td>\n",
       "    </tr>\n",
       "    <tr>\n",
       "      <th rowspan=\"2\" valign=\"top\">kuruyemiş</th>\n",
       "      <th>Yurt dışı</th>\n",
       "      <td>29.939331</td>\n",
       "    </tr>\n",
       "    <tr>\n",
       "      <th>Yurt içi</th>\n",
       "      <td>30.158968</td>\n",
       "    </tr>\n",
       "    <tr>\n",
       "      <th rowspan=\"2\" valign=\"top\">meyve</th>\n",
       "      <th>Yurt dışı</th>\n",
       "      <td>9.989255</td>\n",
       "    </tr>\n",
       "    <tr>\n",
       "      <th>Yurt içi</th>\n",
       "      <td>9.996480</td>\n",
       "    </tr>\n",
       "    <tr>\n",
       "      <th rowspan=\"2\" valign=\"top\">sebze ve bakliyat</th>\n",
       "      <th>Yurt dışı</th>\n",
       "      <td>14.908812</td>\n",
       "    </tr>\n",
       "    <tr>\n",
       "      <th>Yurt içi</th>\n",
       "      <td>14.910725</td>\n",
       "    </tr>\n",
       "    <tr>\n",
       "      <th rowspan=\"2\" valign=\"top\">süt ürünleri ve kahvaltılık</th>\n",
       "      <th>Yurt dışı</th>\n",
       "      <td>25.578623</td>\n",
       "    </tr>\n",
       "    <tr>\n",
       "      <th>Yurt içi</th>\n",
       "      <td>25.660720</td>\n",
       "    </tr>\n",
       "    <tr>\n",
       "      <th rowspan=\"2\" valign=\"top\">tahıl ve ürünleri</th>\n",
       "      <th>Yurt dışı</th>\n",
       "      <td>9.503344</td>\n",
       "    </tr>\n",
       "    <tr>\n",
       "      <th>Yurt içi</th>\n",
       "      <td>9.569253</td>\n",
       "    </tr>\n",
       "  </tbody>\n",
       "</table>\n",
       "</div>"
      ],
      "text/plain": [
       "                                              ürün fiyatı\n",
       "ürün kategorisi             ürün üretim yeri             \n",
       "et                          Yurt dışı           35.748868\n",
       "                            Yurt içi            35.697049\n",
       "kuruyemiş                   Yurt dışı           29.939331\n",
       "                            Yurt içi            30.158968\n",
       "meyve                       Yurt dışı            9.989255\n",
       "                            Yurt içi             9.996480\n",
       "sebze ve bakliyat           Yurt dışı           14.908812\n",
       "                            Yurt içi            14.910725\n",
       "süt ürünleri ve kahvaltılık Yurt dışı           25.578623\n",
       "                            Yurt içi            25.660720\n",
       "tahıl ve ürünleri           Yurt dışı            9.503344\n",
       "                            Yurt içi             9.569253"
      ]
     },
     "execution_count": 20,
     "metadata": {},
     "output_type": "execute_result"
    }
   ],
   "source": [
    "yer_fiyat"
   ]
  },
  {
   "cell_type": "code",
   "execution_count": 10,
   "id": "a061429f",
   "metadata": {},
   "outputs": [
    {
     "data": {
      "text/plain": [
       "[None, None, None, None, None, None, None, None, None, None, None, None]"
      ]
     },
     "execution_count": 10,
     "metadata": {},
     "output_type": "execute_result"
    },
    {
     "data": {
      "image/png": "[encoded data removed]",
      "text/plain": [
       "<Figure size 432x288 with 1 Axes>"
      ]
     },
     "metadata": {
      "needs_background": "light"
     },
     "output_type": "display_data"
    }
   ],
   "source": [
    "#Üretim yerlerine ve kategorilerine göre gruplanmış ürünlerin fiyatlarının görselleştirilmesi\n",
    "ax=sns.barplot(y=\"ürün fiyatı\",x=\"ürün kategorisi\",hue=\"ürün üretim yeri\",data=yer_fiyat.reset_index())\n",
    "locs, labels = plt.xticks()\n",
    "plt.setp(labels, rotation=90)"
   ]
  },
  {
   "cell_type": "code",
   "execution_count": 11,
   "id": "5117314c",
   "metadata": {},
   "outputs": [
    {
     "data": {
      "text/html": [
       "<div>\n",
       "<style scoped>\n",
       "    .dataframe tbody tr th:only-of-type {\n",
       "        vertical-align: middle;\n",
       "    }\n",
       "\n",
       "    .dataframe tbody tr th {\n",
       "        vertical-align: top;\n",
       "    }\n",
       "\n",
       "    .dataframe thead th {\n",
       "        text-align: right;\n",
       "    }\n",
       "</style>\n",
       "<table border=\"1\" class=\"dataframe\">\n",
       "  <thead>\n",
       "    <tr style=\"text-align: right;\">\n",
       "      <th></th>\n",
       "      <th></th>\n",
       "      <th>ürün fiyatı</th>\n",
       "    </tr>\n",
       "    <tr>\n",
       "      <th>ürün kategorisi</th>\n",
       "      <th>yil</th>\n",
       "      <th></th>\n",
       "    </tr>\n",
       "  </thead>\n",
       "  <tbody>\n",
       "    <tr>\n",
       "      <th rowspan=\"5\" valign=\"top\">et</th>\n",
       "      <th>2016</th>\n",
       "      <td>20.122269</td>\n",
       "    </tr>\n",
       "    <tr>\n",
       "      <th>2017</th>\n",
       "      <td>25.238576</td>\n",
       "    </tr>\n",
       "    <tr>\n",
       "      <th>2018</th>\n",
       "      <td>33.369728</td>\n",
       "    </tr>\n",
       "    <tr>\n",
       "      <th>2019</th>\n",
       "      <td>44.107292</td>\n",
       "    </tr>\n",
       "    <tr>\n",
       "      <th>2020</th>\n",
       "      <td>55.776927</td>\n",
       "    </tr>\n",
       "    <tr>\n",
       "      <th rowspan=\"5\" valign=\"top\">kuruyemiş</th>\n",
       "      <th>2016</th>\n",
       "      <td>17.109031</td>\n",
       "    </tr>\n",
       "    <tr>\n",
       "      <th>2017</th>\n",
       "      <td>21.403479</td>\n",
       "    </tr>\n",
       "    <tr>\n",
       "      <th>2018</th>\n",
       "      <td>28.072552</td>\n",
       "    </tr>\n",
       "    <tr>\n",
       "      <th>2019</th>\n",
       "      <td>36.889337</td>\n",
       "    </tr>\n",
       "    <tr>\n",
       "      <th>2020</th>\n",
       "      <td>46.771347</td>\n",
       "    </tr>\n",
       "    <tr>\n",
       "      <th rowspan=\"5\" valign=\"top\">meyve</th>\n",
       "      <th>2016</th>\n",
       "      <td>5.662894</td>\n",
       "    </tr>\n",
       "    <tr>\n",
       "      <th>2017</th>\n",
       "      <td>7.090582</td>\n",
       "    </tr>\n",
       "    <tr>\n",
       "      <th>2018</th>\n",
       "      <td>9.347296</td>\n",
       "    </tr>\n",
       "    <tr>\n",
       "      <th>2019</th>\n",
       "      <td>12.291692</td>\n",
       "    </tr>\n",
       "    <tr>\n",
       "      <th>2020</th>\n",
       "      <td>15.571872</td>\n",
       "    </tr>\n",
       "    <tr>\n",
       "      <th rowspan=\"5\" valign=\"top\">sebze ve bakliyat</th>\n",
       "      <th>2016</th>\n",
       "      <td>8.454689</td>\n",
       "    </tr>\n",
       "    <tr>\n",
       "      <th>2017</th>\n",
       "      <td>10.601573</td>\n",
       "    </tr>\n",
       "    <tr>\n",
       "      <th>2018</th>\n",
       "      <td>13.944897</td>\n",
       "    </tr>\n",
       "    <tr>\n",
       "      <th>2019</th>\n",
       "      <td>18.339276</td>\n",
       "    </tr>\n",
       "    <tr>\n",
       "      <th>2020</th>\n",
       "      <td>23.208409</td>\n",
       "    </tr>\n",
       "    <tr>\n",
       "      <th rowspan=\"5\" valign=\"top\">süt ürünleri ve kahvaltılık</th>\n",
       "      <th>2016</th>\n",
       "      <td>14.503876</td>\n",
       "    </tr>\n",
       "    <tr>\n",
       "      <th>2017</th>\n",
       "      <td>18.188082</td>\n",
       "    </tr>\n",
       "    <tr>\n",
       "      <th>2018</th>\n",
       "      <td>23.945894</td>\n",
       "    </tr>\n",
       "    <tr>\n",
       "      <th>2019</th>\n",
       "      <td>31.546373</td>\n",
       "    </tr>\n",
       "    <tr>\n",
       "      <th>2020</th>\n",
       "      <td>39.914133</td>\n",
       "    </tr>\n",
       "    <tr>\n",
       "      <th rowspan=\"5\" valign=\"top\">tahıl ve ürünleri</th>\n",
       "      <th>2016</th>\n",
       "      <td>5.414829</td>\n",
       "    </tr>\n",
       "    <tr>\n",
       "      <th>2017</th>\n",
       "      <td>6.779239</td>\n",
       "    </tr>\n",
       "    <tr>\n",
       "      <th>2018</th>\n",
       "      <td>8.926311</td>\n",
       "    </tr>\n",
       "    <tr>\n",
       "      <th>2019</th>\n",
       "      <td>11.723370</td>\n",
       "    </tr>\n",
       "    <tr>\n",
       "      <th>2020</th>\n",
       "      <td>14.837746</td>\n",
       "    </tr>\n",
       "  </tbody>\n",
       "</table>\n",
       "</div>"
      ],
      "text/plain": [
       "                                  ürün fiyatı\n",
       "ürün kategorisi             yil              \n",
       "et                          2016    20.122269\n",
       "                            2017    25.238576\n",
       "                            2018    33.369728\n",
       "                            2019    44.107292\n",
       "                            2020    55.776927\n",
       "kuruyemiş                   2016    17.109031\n",
       "                            2017    21.403479\n",
       "                            2018    28.072552\n",
       "                            2019    36.889337\n",
       "                            2020    46.771347\n",
       "meyve                       2016     5.662894\n",
       "                            2017     7.090582\n",
       "                            2018     9.347296\n",
       "                            2019    12.291692\n",
       "                            2020    15.571872\n",
       "sebze ve bakliyat           2016     8.454689\n",
       "                            2017    10.601573\n",
       "                            2018    13.944897\n",
       "                            2019    18.339276\n",
       "                            2020    23.208409\n",
       "süt ürünleri ve kahvaltılık 2016    14.503876\n",
       "                            2017    18.188082\n",
       "                            2018    23.945894\n",
       "                            2019    31.546373\n",
       "                            2020    39.914133\n",
       "tahıl ve ürünleri           2016     5.414829\n",
       "                            2017     6.779239\n",
       "                            2018     8.926311\n",
       "                            2019    11.723370\n",
       "                            2020    14.837746"
      ]
     },
     "execution_count": 11,
     "metadata": {},
     "output_type": "execute_result"
    }
   ],
   "source": [
    "#Yıllara göre ürünlerin fiyat ortalaması\n",
    "yillara_gore_ortalama= pd.DataFrame(train.groupby([\"ürün kategorisi\",\"yil\"])[\"ürün fiyatı\"].mean())\n",
    "yillara_gore_ortalama"
   ]
  },
  {
   "cell_type": "code",
   "execution_count": 12,
   "id": "339349ec",
   "metadata": {},
   "outputs": [
    {
     "data": {
      "text/plain": [
       "<AxesSubplot:xlabel='yil', ylabel='ürün fiyatı'>"
      ]
     },
     "execution_count": 12,
     "metadata": {},
     "output_type": "execute_result"
    },
    {
     "data": {
      "image/png": "[encoded data removed]",
      "text/plain": [
       "<Figure size 432x288 with 1 Axes>"
      ]
     },
     "metadata": {
      "needs_background": "light"
     },
     "output_type": "display_data"
    }
   ],
   "source": [
    "#yillar=yillara_gore_ortalama.iloc[:,:].values\n",
    "sns.lineplot(data=yillara_gore_ortalama, x=\"yil\", y=\"ürün fiyatı\", hue=\"ürün kategorisi\")"
   ]
  },
  {
   "cell_type": "code",
   "execution_count": 13,
   "id": "d044169f",
   "metadata": {},
   "outputs": [
    {
     "name": "stdout",
     "output_type": "stream",
     "text": [
      "[[65]\n",
      " [70]\n",
      " [61]\n",
      " ...\n",
      " [62]\n",
      " [55]\n",
      " [58]]\n"
     ]
    }
   ],
   "source": [
    "#Data preprocessing\n",
    "#Kategorik verilerin label encode işlemi ile sayısal verilere dönüştürülmesi\n",
    "\n",
    "#Label encoder nesnesi oluşturma\n",
    "le_urun=preprocessing.LabelEncoder()\n",
    "\n",
    "#trainDF içerisinden ürünler kolonunun alınması\n",
    "urunler=train.iloc[:,1:2].values\n",
    "\n",
    "#ürün adlarının encode edilmesi\n",
    "urunler[:,0]=le_urun.fit_transform(train.iloc[:,1])\n",
    "print(urunler)"
   ]
  },
  {
   "cell_type": "code",
   "execution_count": 25,
   "id": "655735f5",
   "metadata": {},
   "outputs": [
    {
     "data": {
      "text/plain": [
       "(227520, 1)"
      ]
     },
     "execution_count": 25,
     "metadata": {},
     "output_type": "execute_result"
    }
   ],
   "source": [
    "urunler.shape"
   ]
  },
  {
   "cell_type": "code",
   "execution_count": 14,
   "id": "eea45817",
   "metadata": {},
   "outputs": [
    {
     "data": {
      "text/plain": [
       "array([[65.],\n",
       "       [70.],\n",
       "       [61.],\n",
       "       ...,\n",
       "       [62.],\n",
       "       [55.],\n",
       "       [58.]])"
      ]
     },
     "execution_count": 14,
     "metadata": {},
     "output_type": "execute_result"
    }
   ],
   "source": [
    "#arrayin sayısal değere dönüştürülmesi\n",
    "urunler.astype(float)"
   ]
  },
  {
   "cell_type": "code",
   "execution_count": 15,
   "id": "a3546900",
   "metadata": {},
   "outputs": [
    {
     "name": "stdout",
     "output_type": "stream",
     "text": [
      "[[0]\n",
      " [0]\n",
      " [0]\n",
      " ...\n",
      " [7]\n",
      " [7]\n",
      " [7]]\n"
     ]
    }
   ],
   "source": [
    "#Label encoder nesnesi oluşturma\n",
    "le_sehir=preprocessing.LabelEncoder()\n",
    "\n",
    "#trainDF içerisinden sehirler kolonunun alınması\n",
    "sehirler=train.iloc[:,-1:].values\n",
    "\n",
    "#sehir adlarının encode edilmesi\n",
    "sehirler[:,0]=le_sehir.fit_transform(train.iloc[:,7])\n",
    "print(sehirler)"
   ]
  },
  {
   "cell_type": "code",
   "execution_count": 29,
   "id": "6e26efbb",
   "metadata": {},
   "outputs": [
    {
     "data": {
      "text/plain": [
       "(227520, 1)"
      ]
     },
     "execution_count": 29,
     "metadata": {},
     "output_type": "execute_result"
    }
   ],
   "source": [
    "sehirler.shape"
   ]
  },
  {
   "cell_type": "code",
   "execution_count": 16,
   "id": "8d77db92",
   "metadata": {},
   "outputs": [
    {
     "data": {
      "text/plain": [
       "array([[0.],\n",
       "       [0.],\n",
       "       [0.],\n",
       "       ...,\n",
       "       [7.],\n",
       "       [7.],\n",
       "       [7.]])"
      ]
     },
     "execution_count": 16,
     "metadata": {},
     "output_type": "execute_result"
    }
   ],
   "source": [
    "#arrayin sayısal değere dönüştürülmesi\n",
    "sehirler.astype(float)"
   ]
  },
  {
   "cell_type": "code",
   "execution_count": 17,
   "id": "d9239f3e",
   "metadata": {},
   "outputs": [
    {
     "name": "stdout",
     "output_type": "stream",
     "text": [
      "[[1]\n",
      " [1]\n",
      " [1]\n",
      " ...\n",
      " [0]\n",
      " [0]\n",
      " [0]]\n"
     ]
    }
   ],
   "source": [
    "#Label encoder nesnesi oluşturma\n",
    "le_yer=preprocessing.LabelEncoder()\n",
    "\n",
    "#trainDF içerisinden ürünler kolonunun alınması\n",
    "yer=train.iloc[:,5:6].values\n",
    "\n",
    "#ürün adlarının encode edilmesi\n",
    "yer[:,0]=le_yer.fit_transform(train.iloc[:,5])\n",
    "print(yer)"
   ]
  },
  {
   "cell_type": "code",
   "execution_count": 32,
   "id": "1fa89ef1",
   "metadata": {},
   "outputs": [
    {
     "data": {
      "text/plain": [
       "(227520, 1)"
      ]
     },
     "execution_count": 32,
     "metadata": {},
     "output_type": "execute_result"
    }
   ],
   "source": [
    "yer.shape"
   ]
  },
  {
   "cell_type": "code",
   "execution_count": 18,
   "id": "e295104c",
   "metadata": {},
   "outputs": [
    {
     "data": {
      "text/plain": [
       "array([[1.],\n",
       "       [1.],\n",
       "       [1.],\n",
       "       ...,\n",
       "       [0.],\n",
       "       [0.],\n",
       "       [0.]])"
      ]
     },
     "execution_count": 18,
     "metadata": {},
     "output_type": "execute_result"
    }
   ],
   "source": [
    "#arrayin sayısal değere dönüştürülmesi\n",
    "yer.astype(float)"
   ]
  },
  {
   "cell_type": "code",
   "execution_count": 19,
   "id": "99275ece",
   "metadata": {},
   "outputs": [
    {
     "name": "stdout",
     "output_type": "stream",
     "text": [
      "[[0. 0. 1.]\n",
      " [0. 0. 1.]\n",
      " [0. 0. 1.]\n",
      " ...\n",
      " [1. 0. 0.]\n",
      " [1. 0. 0.]\n",
      " [1. 0. 0.]]\n"
     ]
    }
   ],
   "source": [
    "#market alanının one hot encoding yapılması\n",
    "markt=train.iloc[:,6:7].values\n",
    "\n",
    "ohe=preprocessing.OneHotEncoder()\n",
    "markets=ohe.fit_transform(markt).toarray()\n",
    "print(markets)"
   ]
  },
  {
   "cell_type": "code",
   "execution_count": 20,
   "id": "176be2d6",
   "metadata": {},
   "outputs": [
    {
     "name": "stdout",
     "output_type": "stream",
     "text": [
      "       urunId\n",
      "0          65\n",
      "1          70\n",
      "2          61\n",
      "3           1\n",
      "4           2\n",
      "...       ...\n",
      "227515     59\n",
      "227516     60\n",
      "227517     62\n",
      "227518     55\n",
      "227519     58\n",
      "\n",
      "[227520 rows x 1 columns]\n"
     ]
    }
   ],
   "source": [
    "#urunler alanını DF'ye dönüştürme\n",
    "urun_id=pd.DataFrame(data=urunler,index=range(227520),columns=['urunId'])\n",
    "print(urun_id)"
   ]
  },
  {
   "cell_type": "code",
   "execution_count": 21,
   "id": "a3698196",
   "metadata": {},
   "outputs": [
    {
     "name": "stdout",
     "output_type": "stream",
     "text": [
      "        sehirId\n",
      "0             0\n",
      "1             0\n",
      "2             0\n",
      "3             0\n",
      "4             0\n",
      "...         ...\n",
      "227515        7\n",
      "227516        7\n",
      "227517        7\n",
      "227518        7\n",
      "227519        7\n",
      "\n",
      "[227520 rows x 1 columns]\n"
     ]
    }
   ],
   "source": [
    "#sehirler alanını DF'ye dönüştürme\n",
    "sehir_id=pd.DataFrame(data=sehirler,index=range(227520),columns=['sehirId'])\n",
    "print(sehir_id)"
   ]
  },
  {
   "cell_type": "code",
   "execution_count": 22,
   "id": "5047ef69",
   "metadata": {},
   "outputs": [
    {
     "name": "stdout",
     "output_type": "stream",
     "text": [
      "       UretimYeri\n",
      "0               1\n",
      "1               1\n",
      "2               1\n",
      "3               1\n",
      "4               1\n",
      "...           ...\n",
      "227515          0\n",
      "227516          0\n",
      "227517          0\n",
      "227518          0\n",
      "227519          0\n",
      "\n",
      "[227520 rows x 1 columns]\n"
     ]
    }
   ],
   "source": [
    "#uretim yeri alanını DF'ye dönüştürme\n",
    "uretim_yeri=pd.DataFrame(data=yer,index=range(227520),columns=['UretimYeri'])\n",
    "print(uretim_yeri)"
   ]
  },
  {
   "cell_type": "code",
   "execution_count": 23,
   "id": "b635860b",
   "metadata": {},
   "outputs": [
    {
     "name": "stdout",
     "output_type": "stream",
     "text": [
      "[[0. 0. 1.]\n",
      " [0. 0. 1.]\n",
      " [0. 0. 1.]\n",
      " ...\n",
      " [1. 0. 0.]\n",
      " [1. 0. 0.]\n",
      " [1. 0. 0.]]\n"
     ]
    }
   ],
   "source": [
    "#market alanını DF'ye dönüştürme\n",
    "marketss=pd.DataFrame(data=markets,index=range(227520),columns=['B','C','M'])\n",
    "print(markets)"
   ]
  },
  {
   "cell_type": "code",
   "execution_count": 24,
   "id": "0cae1473",
   "metadata": {},
   "outputs": [
    {
     "data": {
      "text/html": [
       "<div>\n",
       "<style scoped>\n",
       "    .dataframe tbody tr th:only-of-type {\n",
       "        vertical-align: middle;\n",
       "    }\n",
       "\n",
       "    .dataframe tbody tr th {\n",
       "        vertical-align: top;\n",
       "    }\n",
       "\n",
       "    .dataframe thead th {\n",
       "        text-align: right;\n",
       "    }\n",
       "</style>\n",
       "<table border=\"1\" class=\"dataframe\">\n",
       "  <thead>\n",
       "    <tr style=\"text-align: right;\">\n",
       "      <th></th>\n",
       "      <th>yil</th>\n",
       "      <th>ay</th>\n",
       "    </tr>\n",
       "  </thead>\n",
       "  <tbody>\n",
       "    <tr>\n",
       "      <th>0</th>\n",
       "      <td>2016</td>\n",
       "      <td>1</td>\n",
       "    </tr>\n",
       "    <tr>\n",
       "      <th>1</th>\n",
       "      <td>2016</td>\n",
       "      <td>1</td>\n",
       "    </tr>\n",
       "    <tr>\n",
       "      <th>2</th>\n",
       "      <td>2016</td>\n",
       "      <td>1</td>\n",
       "    </tr>\n",
       "    <tr>\n",
       "      <th>3</th>\n",
       "      <td>2016</td>\n",
       "      <td>1</td>\n",
       "    </tr>\n",
       "    <tr>\n",
       "      <th>4</th>\n",
       "      <td>2016</td>\n",
       "      <td>1</td>\n",
       "    </tr>\n",
       "    <tr>\n",
       "      <th>...</th>\n",
       "      <td>...</td>\n",
       "      <td>...</td>\n",
       "    </tr>\n",
       "    <tr>\n",
       "      <th>227515</th>\n",
       "      <td>2020</td>\n",
       "      <td>12</td>\n",
       "    </tr>\n",
       "    <tr>\n",
       "      <th>227516</th>\n",
       "      <td>2020</td>\n",
       "      <td>12</td>\n",
       "    </tr>\n",
       "    <tr>\n",
       "      <th>227517</th>\n",
       "      <td>2020</td>\n",
       "      <td>12</td>\n",
       "    </tr>\n",
       "    <tr>\n",
       "      <th>227518</th>\n",
       "      <td>2020</td>\n",
       "      <td>12</td>\n",
       "    </tr>\n",
       "    <tr>\n",
       "      <th>227519</th>\n",
       "      <td>2020</td>\n",
       "      <td>12</td>\n",
       "    </tr>\n",
       "  </tbody>\n",
       "</table>\n",
       "<p>227520 rows × 2 columns</p>\n",
       "</div>"
      ],
      "text/plain": [
       "         yil  ay\n",
       "0       2016   1\n",
       "1       2016   1\n",
       "2       2016   1\n",
       "3       2016   1\n",
       "4       2016   1\n",
       "...      ...  ..\n",
       "227515  2020  12\n",
       "227516  2020  12\n",
       "227517  2020  12\n",
       "227518  2020  12\n",
       "227519  2020  12\n",
       "\n",
       "[227520 rows x 2 columns]"
      ]
     },
     "execution_count": 24,
     "metadata": {},
     "output_type": "execute_result"
    }
   ],
   "source": [
    "#verimiz içerisinden yıl ve ay bilgisini alma\n",
    "yil_ay=train.iloc[:,8:10]\n",
    "yil_ay\n"
   ]
  },
  {
   "cell_type": "code",
   "execution_count": 25,
   "id": "14d74e1f",
   "metadata": {},
   "outputs": [
    {
     "name": "stdout",
     "output_type": "stream",
     "text": [
      "<class 'numpy.ndarray'>\n"
     ]
    }
   ],
   "source": [
    "#Bağımsız değişkenlerin oluşturulması\n",
    "data=pd.concat([urun_id,uretim_yeri,sehir_id,marketss,yil_ay], axis=1)\n",
    "x=data.iloc[:,0:].values\n",
    "x\n",
    "print(type(x))\n",
    "\n"
   ]
  },
  {
   "cell_type": "code",
   "execution_count": 26,
   "id": "b02ee7a4",
   "metadata": {},
   "outputs": [
    {
     "name": "stdout",
     "output_type": "stream",
     "text": [
      "<class 'numpy.ndarray'>\n",
      "[33.41 11.22 11.12 ... 58.6  51.83 57.22]\n"
     ]
    }
   ],
   "source": [
    "#Bağımlı değişkenin oluşturulması\n",
    "y=train.iloc[:,4].values\n",
    "print(type(y))\n",
    "print(y)"
   ]
  },
  {
   "cell_type": "code",
   "execution_count": 27,
   "id": "b7b89f3d",
   "metadata": {},
   "outputs": [],
   "source": [
    "from sklearn.model_selection import train_test_split"
   ]
  },
  {
   "cell_type": "code",
   "execution_count": 28,
   "id": "4c414e77",
   "metadata": {},
   "outputs": [],
   "source": [
    "from sklearn.metrics import mean_squared_error"
   ]
  },
  {
   "cell_type": "code",
   "execution_count": 29,
   "id": "c1bfb85f",
   "metadata": {},
   "outputs": [],
   "source": [
    "xtrain,xtest,ytrain,ytest=train_test_split(x,y,test_size=0.2,random_state=0)"
   ]
  },
  {
   "cell_type": "code",
   "execution_count": 30,
   "id": "e90bd45f",
   "metadata": {},
   "outputs": [
    {
     "data": {
      "text/plain": [
       "LinearRegression()"
      ]
     },
     "execution_count": 30,
     "metadata": {},
     "output_type": "execute_result"
    }
   ],
   "source": [
    "#Linear Regression\n",
    "lin_reg=LinearRegression()\n",
    "lin_reg.fit(xtrain,ytrain)\n",
    "\n"
   ]
  },
  {
   "cell_type": "code",
   "execution_count": 32,
   "id": "c16788ef",
   "metadata": {},
   "outputs": [],
   "source": [
    "pred=lin_reg.predict(xtest)"
   ]
  },
  {
   "cell_type": "code",
   "execution_count": 33,
   "id": "fd328e21",
   "metadata": {},
   "outputs": [
    {
     "name": "stdout",
     "output_type": "stream",
     "text": [
      "11.514678539588687\n"
     ]
    }
   ],
   "source": [
    "rmse=np.sqrt(mean_squared_error(ytest, pred))\n",
    "print(rmse)\n"
   ]
  },
  {
   "cell_type": "code",
   "execution_count": 34,
   "id": "3176ed64",
   "metadata": {},
   "outputs": [],
   "source": [
    "reg = linear_model.Ridge(alpha=.5)"
   ]
  },
  {
   "cell_type": "code",
   "execution_count": 35,
   "id": "80b3581c",
   "metadata": {},
   "outputs": [
    {
     "data": {
      "text/plain": [
       "Ridge(alpha=0.5)"
      ]
     },
     "execution_count": 35,
     "metadata": {},
     "output_type": "execute_result"
    }
   ],
   "source": [
    "reg.fit(xtrain,ytrain)"
   ]
  },
  {
   "cell_type": "code",
   "execution_count": 36,
   "id": "43fc782a",
   "metadata": {},
   "outputs": [
    {
     "data": {
      "text/plain": [
       "array([11.99167418,  3.84384463, 20.11772145, ..., 24.55076086,\n",
       "        9.13331172, 22.29709942])"
      ]
     },
     "execution_count": 36,
     "metadata": {},
     "output_type": "execute_result"
    }
   ],
   "source": [
    "reg.predict(xtest)"
   ]
  },
  {
   "cell_type": "code",
   "execution_count": 37,
   "id": "fa5f66b2",
   "metadata": {},
   "outputs": [
    {
     "name": "stdout",
     "output_type": "stream",
     "text": [
      "11.514678539588687\n"
     ]
    }
   ],
   "source": [
    "rmse=np.sqrt(mean_squared_error(ytest, pred))\n",
    "print(rmse)"
   ]
  },
  {
   "cell_type": "code",
   "execution_count": 38,
   "id": "f58a238a",
   "metadata": {},
   "outputs": [],
   "source": [
    "from sklearn.ensemble import RandomForestRegressor"
   ]
  },
  {
   "cell_type": "code",
   "execution_count": 39,
   "id": "31691eb2",
   "metadata": {},
   "outputs": [
    {
     "data": {
      "text/plain": [
       "RandomForestRegressor(n_estimators=10, random_state=0)"
      ]
     },
     "execution_count": 39,
     "metadata": {},
     "output_type": "execute_result"
    }
   ],
   "source": [
    "#Random forrest\n",
    "rf_reg=RandomForestRegressor(n_estimators=10,random_state=0)\n",
    "rf_reg.fit(xtrain,ytrain.ravel())"
   ]
  },
  {
   "cell_type": "code",
   "execution_count": 40,
   "id": "5877e389",
   "metadata": {},
   "outputs": [],
   "source": [
    "pred=rf_reg.predict(xtest)"
   ]
  },
  {
   "cell_type": "code",
   "execution_count": 55,
   "id": "5568e148",
   "metadata": {},
   "outputs": [
    {
     "name": "stdout",
     "output_type": "stream",
     "text": [
      "[14.287  6.534 38.813 ... 14.009  6.232 21.907]\n"
     ]
    }
   ],
   "source": [
    "print(pred)"
   ]
  },
  {
   "cell_type": "code",
   "execution_count": 41,
   "id": "f7352758",
   "metadata": {},
   "outputs": [
    {
     "name": "stdout",
     "output_type": "stream",
     "text": [
      "1.0890447956632208\n"
     ]
    }
   ],
   "source": [
    "rmse=np.sqrt(mean_squared_error(ytest, pred))\n",
    "print(rmse)"
   ]
  },
  {
   "cell_type": "code",
   "execution_count": 81,
   "id": "1db31879",
   "metadata": {},
   "outputs": [],
   "source": [
    "fiyatt=pd.DataFrame(data=pred,columns=['ürün fiyatı'])"
   ]
  },
  {
   "cell_type": "code",
   "execution_count": 82,
   "id": "fbacc4b3",
   "metadata": {},
   "outputs": [
    {
     "data": {
      "text/html": [
       "<div>\n",
       "<style scoped>\n",
       "    .dataframe tbody tr th:only-of-type {\n",
       "        vertical-align: middle;\n",
       "    }\n",
       "\n",
       "    .dataframe tbody tr th {\n",
       "        vertical-align: top;\n",
       "    }\n",
       "\n",
       "    .dataframe thead th {\n",
       "        text-align: right;\n",
       "    }\n",
       "</style>\n",
       "<table border=\"1\" class=\"dataframe\">\n",
       "  <thead>\n",
       "    <tr style=\"text-align: right;\">\n",
       "      <th></th>\n",
       "      <th>ürün fiyatı</th>\n",
       "    </tr>\n",
       "  </thead>\n",
       "  <tbody>\n",
       "    <tr>\n",
       "      <th>0</th>\n",
       "      <td>14.287</td>\n",
       "    </tr>\n",
       "    <tr>\n",
       "      <th>1</th>\n",
       "      <td>6.534</td>\n",
       "    </tr>\n",
       "    <tr>\n",
       "      <th>2</th>\n",
       "      <td>38.813</td>\n",
       "    </tr>\n",
       "    <tr>\n",
       "      <th>3</th>\n",
       "      <td>9.170</td>\n",
       "    </tr>\n",
       "    <tr>\n",
       "      <th>4</th>\n",
       "      <td>6.996</td>\n",
       "    </tr>\n",
       "    <tr>\n",
       "      <th>...</th>\n",
       "      <td>...</td>\n",
       "    </tr>\n",
       "    <tr>\n",
       "      <th>45499</th>\n",
       "      <td>41.618</td>\n",
       "    </tr>\n",
       "    <tr>\n",
       "      <th>45500</th>\n",
       "      <td>15.182</td>\n",
       "    </tr>\n",
       "    <tr>\n",
       "      <th>45501</th>\n",
       "      <td>14.009</td>\n",
       "    </tr>\n",
       "    <tr>\n",
       "      <th>45502</th>\n",
       "      <td>6.232</td>\n",
       "    </tr>\n",
       "    <tr>\n",
       "      <th>45503</th>\n",
       "      <td>21.907</td>\n",
       "    </tr>\n",
       "  </tbody>\n",
       "</table>\n",
       "<p>45504 rows × 1 columns</p>\n",
       "</div>"
      ],
      "text/plain": [
       "       ürün fiyatı\n",
       "0           14.287\n",
       "1            6.534\n",
       "2           38.813\n",
       "3            9.170\n",
       "4            6.996\n",
       "...            ...\n",
       "45499       41.618\n",
       "45500       15.182\n",
       "45501       14.009\n",
       "45502        6.232\n",
       "45503       21.907\n",
       "\n",
       "[45504 rows x 1 columns]"
      ]
     },
     "execution_count": 82,
     "metadata": {},
     "output_type": "execute_result"
    }
   ],
   "source": [
    "fiyatt"
   ]
  },
  {
   "cell_type": "code",
   "execution_count": 80,
   "id": "57d3574c",
   "metadata": {},
   "outputs": [],
   "source": [
    "index=pd.DataFrame(data=np.arange(45504),columns=['id'])"
   ]
  },
  {
   "cell_type": "code",
   "execution_count": 83,
   "id": "d5809a34",
   "metadata": {},
   "outputs": [],
   "source": [
    "conc=pd.concat([index,fiyatt], axis=1)"
   ]
  },
  {
   "cell_type": "code",
   "execution_count": 77,
   "id": "e60e3fa1",
   "metadata": {},
   "outputs": [
    {
     "data": {
      "text/html": [
       "<div>\n",
       "<style scoped>\n",
       "    .dataframe tbody tr th:only-of-type {\n",
       "        vertical-align: middle;\n",
       "    }\n",
       "\n",
       "    .dataframe tbody tr th {\n",
       "        vertical-align: top;\n",
       "    }\n",
       "\n",
       "    .dataframe thead th {\n",
       "        text-align: right;\n",
       "    }\n",
       "</style>\n",
       "<table border=\"1\" class=\"dataframe\">\n",
       "  <thead>\n",
       "    <tr style=\"text-align: right;\">\n",
       "      <th></th>\n",
       "      <th>id</th>\n",
       "      <th>ürün fiyatı</th>\n",
       "    </tr>\n",
       "  </thead>\n",
       "  <tbody>\n",
       "    <tr>\n",
       "      <th>0</th>\n",
       "      <td>0</td>\n",
       "      <td>14.287</td>\n",
       "    </tr>\n",
       "    <tr>\n",
       "      <th>1</th>\n",
       "      <td>1</td>\n",
       "      <td>6.534</td>\n",
       "    </tr>\n",
       "    <tr>\n",
       "      <th>2</th>\n",
       "      <td>2</td>\n",
       "      <td>38.813</td>\n",
       "    </tr>\n",
       "    <tr>\n",
       "      <th>3</th>\n",
       "      <td>3</td>\n",
       "      <td>9.170</td>\n",
       "    </tr>\n",
       "    <tr>\n",
       "      <th>4</th>\n",
       "      <td>4</td>\n",
       "      <td>6.996</td>\n",
       "    </tr>\n",
       "    <tr>\n",
       "      <th>...</th>\n",
       "      <td>...</td>\n",
       "      <td>...</td>\n",
       "    </tr>\n",
       "    <tr>\n",
       "      <th>45499</th>\n",
       "      <td>45499</td>\n",
       "      <td>41.618</td>\n",
       "    </tr>\n",
       "    <tr>\n",
       "      <th>45500</th>\n",
       "      <td>45500</td>\n",
       "      <td>15.182</td>\n",
       "    </tr>\n",
       "    <tr>\n",
       "      <th>45501</th>\n",
       "      <td>45501</td>\n",
       "      <td>14.009</td>\n",
       "    </tr>\n",
       "    <tr>\n",
       "      <th>45502</th>\n",
       "      <td>45502</td>\n",
       "      <td>6.232</td>\n",
       "    </tr>\n",
       "    <tr>\n",
       "      <th>45503</th>\n",
       "      <td>45503</td>\n",
       "      <td>21.907</td>\n",
       "    </tr>\n",
       "  </tbody>\n",
       "</table>\n",
       "<p>45504 rows × 2 columns</p>\n",
       "</div>"
      ],
      "text/plain": [
       "          id  ürün fiyatı\n",
       "0          0       14.287\n",
       "1          1        6.534\n",
       "2          2       38.813\n",
       "3          3        9.170\n",
       "4          4        6.996\n",
       "...      ...          ...\n",
       "45499  45499       41.618\n",
       "45500  45500       15.182\n",
       "45501  45501       14.009\n",
       "45502  45502        6.232\n",
       "45503  45503       21.907\n",
       "\n",
       "[45504 rows x 2 columns]"
      ]
     },
     "execution_count": 77,
     "metadata": {},
     "output_type": "execute_result"
    }
   ],
   "source": [
    "conc"
   ]
  },
  {
   "cell_type": "code",
   "execution_count": 85,
   "id": "4809fb87",
   "metadata": {},
   "outputs": [],
   "source": [
    "import os  \n",
    "os.makedirs('C:/datathon', exist_ok=True)  \n",
    "conc.to_csv('C:/datathon/output.csv',index=False) "
   ]
  },
  {
   "cell_type": "code",
   "execution_count": null,
   "id": "b01f3217",
   "metadata": {},
   "outputs": [],
   "source": []
  }
 ],
 "metadata": {
  "kernelspec": {
   "display_name": "Python 3 (ipykernel)",
   "language": "python",
   "name": "python3"
  },
  "language_info": {
   "codemirror_mode": {
    "name": "ipython",
    "version": 3
   },
   "file_extension": ".py",
   "mimetype": "text/x-python",
   "name": "python",
   "nbconvert_exporter": "python",
   "pygments_lexer": "ipython3",
   "version": "3.9.7"
  }
 },
 "nbformat": 4,
 "nbformat_minor": 5
}

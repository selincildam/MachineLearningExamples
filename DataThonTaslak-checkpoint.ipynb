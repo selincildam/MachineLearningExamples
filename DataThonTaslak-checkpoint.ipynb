{
 "cells": [
  {
   "cell_type": "code",
   "execution_count": 2,
   "id": "292ff70c",
   "metadata": {},
   "outputs": [],
   "source": [
    "#Kütüphanelerin içe aktarılması\n",
    "import numpy as np\n",
    "import pandas as pd\n",
    "import matplotlib.pyplot as plt\n",
    "import seaborn as sns\n",
    "from sklearn.model_selection import train_test_split"
   ]
  },
  {
   "cell_type": "code",
   "execution_count": 3,
   "id": "f24b382a",
   "metadata": {},
   "outputs": [],
   "source": [
    "#Verilerin okunması\n",
    "train=pd.read_csv('C:/datathon/train.csv')\n",
    "test=pd.read_csv('C:/datathon/train.csv')"
   ]
  },
  {
   "cell_type": "code",
   "execution_count": 4,
   "id": "0585a9f4",
   "metadata": {},
   "outputs": [
    {
     "data": {
      "text/html": [
       "<div>\n",
       "<style scoped>\n",
       "    .dataframe tbody tr th:only-of-type {\n",
       "        vertical-align: middle;\n",
       "    }\n",
       "\n",
       "    .dataframe tbody tr th {\n",
       "        vertical-align: top;\n",
       "    }\n",
       "\n",
       "    .dataframe thead th {\n",
       "        text-align: right;\n",
       "    }\n",
       "</style>\n",
       "<table border=\"1\" class=\"dataframe\">\n",
       "  <thead>\n",
       "    <tr style=\"text-align: right;\">\n",
       "      <th></th>\n",
       "      <th>tarih</th>\n",
       "      <th>ürün</th>\n",
       "      <th>ürün besin değeri</th>\n",
       "      <th>ürün kategorisi</th>\n",
       "      <th>ürün fiyatı</th>\n",
       "      <th>ürün üretim yeri</th>\n",
       "      <th>market</th>\n",
       "      <th>şehir</th>\n",
       "    </tr>\n",
       "  </thead>\n",
       "  <tbody>\n",
       "    <tr>\n",
       "      <th>0</th>\n",
       "      <td>2016-01-01</td>\n",
       "      <td>kıyma</td>\n",
       "      <td>120</td>\n",
       "      <td>et</td>\n",
       "      <td>33.41</td>\n",
       "      <td>Yurt içi</td>\n",
       "      <td>M</td>\n",
       "      <td>A</td>\n",
       "    </tr>\n",
       "    <tr>\n",
       "      <th>1</th>\n",
       "      <td>2016-01-01</td>\n",
       "      <td>tavuk</td>\n",
       "      <td>103</td>\n",
       "      <td>et</td>\n",
       "      <td>11.22</td>\n",
       "      <td>Yurt içi</td>\n",
       "      <td>M</td>\n",
       "      <td>A</td>\n",
       "    </tr>\n",
       "    <tr>\n",
       "      <th>2</th>\n",
       "      <td>2016-01-01</td>\n",
       "      <td>hindi</td>\n",
       "      <td>160</td>\n",
       "      <td>et</td>\n",
       "      <td>11.12</td>\n",
       "      <td>Yurt içi</td>\n",
       "      <td>M</td>\n",
       "      <td>A</td>\n",
       "    </tr>\n",
       "    <tr>\n",
       "      <th>3</th>\n",
       "      <td>2016-01-01</td>\n",
       "      <td>Bakla-kuru</td>\n",
       "      <td>354</td>\n",
       "      <td>sebze ve bakliyat</td>\n",
       "      <td>7.02</td>\n",
       "      <td>Yurt içi</td>\n",
       "      <td>M</td>\n",
       "      <td>A</td>\n",
       "    </tr>\n",
       "    <tr>\n",
       "      <th>4</th>\n",
       "      <td>2016-01-01</td>\n",
       "      <td>Bakla-taze</td>\n",
       "      <td>72</td>\n",
       "      <td>sebze ve bakliyat</td>\n",
       "      <td>13.14</td>\n",
       "      <td>Yurt içi</td>\n",
       "      <td>M</td>\n",
       "      <td>A</td>\n",
       "    </tr>\n",
       "  </tbody>\n",
       "</table>\n",
       "</div>"
      ],
      "text/plain": [
       "        tarih        ürün  ürün besin değeri    ürün kategorisi  ürün fiyatı  \\\n",
       "0  2016-01-01       kıyma                120                 et        33.41   \n",
       "1  2016-01-01       tavuk                103                 et        11.22   \n",
       "2  2016-01-01       hindi                160                 et        11.12   \n",
       "3  2016-01-01  Bakla-kuru                354  sebze ve bakliyat         7.02   \n",
       "4  2016-01-01  Bakla-taze                 72  sebze ve bakliyat        13.14   \n",
       "\n",
       "  ürün üretim yeri market şehir  \n",
       "0         Yurt içi      M     A  \n",
       "1         Yurt içi      M     A  \n",
       "2         Yurt içi      M     A  \n",
       "3         Yurt içi      M     A  \n",
       "4         Yurt içi      M     A  "
      ]
     },
     "execution_count": 4,
     "metadata": {},
     "output_type": "execute_result"
    }
   ],
   "source": [
    "#Veriyi görüntüleme\n",
    "train.head()"
   ]
  },
  {
   "cell_type": "code",
   "execution_count": 5,
   "id": "ba770dc5",
   "metadata": {},
   "outputs": [
    {
     "name": "stdout",
     "output_type": "stream",
     "text": [
      "<class 'pandas.core.frame.DataFrame'>\n",
      "RangeIndex: 227520 entries, 0 to 227519\n",
      "Data columns (total 8 columns):\n",
      " #   Column             Non-Null Count   Dtype  \n",
      "---  ------             --------------   -----  \n",
      " 0   tarih              227520 non-null  object \n",
      " 1   ürün               227520 non-null  object \n",
      " 2   ürün besin değeri  227520 non-null  int64  \n",
      " 3   ürün kategorisi    227520 non-null  object \n",
      " 4   ürün fiyatı        227520 non-null  float64\n",
      " 5   ürün üretim yeri   227520 non-null  object \n",
      " 6   market             227520 non-null  object \n",
      " 7   şehir              227520 non-null  object \n",
      "dtypes: float64(1), int64(1), object(6)\n",
      "memory usage: 13.9+ MB\n"
     ]
    }
   ],
   "source": [
    "#Data alanlarımız hakkında bilgi \n",
    "train.info()"
   ]
  },
  {
   "cell_type": "code",
   "execution_count": 11,
   "id": "06a91c4a",
   "metadata": {},
   "outputs": [
    {
     "name": "stdout",
     "output_type": "stream",
     "text": [
      "<class 'pandas.core.frame.DataFrame'>\n",
      "RangeIndex: 227520 entries, 0 to 227519\n",
      "Data columns (total 8 columns):\n",
      " #   Column             Non-Null Count   Dtype  \n",
      "---  ------             --------------   -----  \n",
      " 0   tarih              227520 non-null  object \n",
      " 1   ürün               227520 non-null  object \n",
      " 2   ürün besin değeri  227520 non-null  int64  \n",
      " 3   ürün kategorisi    227520 non-null  object \n",
      " 4   ürün fiyatı        227520 non-null  float64\n",
      " 5   ürün üretim yeri   227520 non-null  object \n",
      " 6   market             227520 non-null  object \n",
      " 7   şehir              227520 non-null  object \n",
      "dtypes: float64(1), int64(1), object(6)\n",
      "memory usage: 13.9+ MB\n"
     ]
    }
   ],
   "source": [
    "test.info()"
   ]
  },
  {
   "cell_type": "code",
   "execution_count": 17,
   "id": "d0792ed5",
   "metadata": {},
   "outputs": [
    {
     "data": {
      "text/plain": [
       "tarih                0\n",
       "ürün                 0\n",
       "ürün besin değeri    0\n",
       "ürün kategorisi      0\n",
       "ürün fiyatı          0\n",
       "ürün üretim yeri     0\n",
       "market               0\n",
       "şehir                0\n",
       "dtype: int64"
      ]
     },
     "execution_count": 17,
     "metadata": {},
     "output_type": "execute_result"
    }
   ],
   "source": [
    "train.isna().sum()"
   ]
  },
  {
   "cell_type": "code",
   "execution_count": 6,
   "id": "9cd22944",
   "metadata": {},
   "outputs": [
    {
     "data": {
      "text/html": [
       "<div>\n",
       "<style scoped>\n",
       "    .dataframe tbody tr th:only-of-type {\n",
       "        vertical-align: middle;\n",
       "    }\n",
       "\n",
       "    .dataframe tbody tr th {\n",
       "        vertical-align: top;\n",
       "    }\n",
       "\n",
       "    .dataframe thead th {\n",
       "        text-align: right;\n",
       "    }\n",
       "</style>\n",
       "<table border=\"1\" class=\"dataframe\">\n",
       "  <thead>\n",
       "    <tr style=\"text-align: right;\">\n",
       "      <th></th>\n",
       "      <th>tarih</th>\n",
       "      <th>ürün</th>\n",
       "      <th>ürün kategorisi</th>\n",
       "      <th>ürün üretim yeri</th>\n",
       "      <th>market</th>\n",
       "      <th>şehir</th>\n",
       "    </tr>\n",
       "  </thead>\n",
       "  <tbody>\n",
       "    <tr>\n",
       "      <th>count</th>\n",
       "      <td>227520</td>\n",
       "      <td>227520</td>\n",
       "      <td>227520</td>\n",
       "      <td>227520</td>\n",
       "      <td>227520</td>\n",
       "      <td>227520</td>\n",
       "    </tr>\n",
       "    <tr>\n",
       "      <th>unique</th>\n",
       "      <td>60</td>\n",
       "      <td>79</td>\n",
       "      <td>6</td>\n",
       "      <td>2</td>\n",
       "      <td>3</td>\n",
       "      <td>8</td>\n",
       "    </tr>\n",
       "    <tr>\n",
       "      <th>top</th>\n",
       "      <td>2016-01-01</td>\n",
       "      <td>kıyma</td>\n",
       "      <td>sebze ve bakliyat</td>\n",
       "      <td>Yurt içi</td>\n",
       "      <td>M</td>\n",
       "      <td>A</td>\n",
       "    </tr>\n",
       "    <tr>\n",
       "      <th>freq</th>\n",
       "      <td>3792</td>\n",
       "      <td>2880</td>\n",
       "      <td>83520</td>\n",
       "      <td>113760</td>\n",
       "      <td>75840</td>\n",
       "      <td>28440</td>\n",
       "    </tr>\n",
       "  </tbody>\n",
       "</table>\n",
       "</div>"
      ],
      "text/plain": [
       "             tarih    ürün    ürün kategorisi ürün üretim yeri  market   şehir\n",
       "count       227520  227520             227520           227520  227520  227520\n",
       "unique          60      79                  6                2       3       8\n",
       "top     2016-01-01   kıyma  sebze ve bakliyat         Yurt içi       M       A\n",
       "freq          3792    2880              83520           113760   75840   28440"
      ]
     },
     "execution_count": 6,
     "metadata": {},
     "output_type": "execute_result"
    }
   ],
   "source": [
    "#Kategorik sütunları görüntüleme\n",
    "train.describe(include=['O'])"
   ]
  },
  {
   "cell_type": "code",
   "execution_count": 15,
   "id": "b77f0ebe",
   "metadata": {},
   "outputs": [],
   "source": [
    "#tarih sütunundan yil ve ay bilgilerini almak\n",
    "train[\"tarih\"]=pd.to_datetime(train[\"tarih\"])"
   ]
  },
  {
   "cell_type": "code",
   "execution_count": 16,
   "id": "1aec44da",
   "metadata": {},
   "outputs": [
    {
     "data": {
      "text/plain": [
       "tarih                datetime64[ns]\n",
       "ürün                         object\n",
       "ürün besin değeri             int64\n",
       "ürün kategorisi              object\n",
       "ürün fiyatı                 float64\n",
       "ürün üretim yeri             object\n",
       "market                       object\n",
       "şehir                        object\n",
       "dtype: object"
      ]
     },
     "execution_count": 16,
     "metadata": {},
     "output_type": "execute_result"
    }
   ],
   "source": [
    "train.dtypes"
   ]
  },
  {
   "cell_type": "code",
   "execution_count": null,
   "id": "292d35d4",
   "metadata": {},
   "outputs": [],
   "source": [
    "#Bu satırdan EMİN DEĞİLİZ:)))\n",
    "#Yıllara göre ürünlerin fiyat ortalaması\n",
    "yillara_gore_ortalama=pd.DataFrame(train.groupBy([\"Yil\",\"ürün fiyatı\"])[\"ürün fiyatı\"].mean())"
   ]
  },
  {
   "cell_type": "code",
   "execution_count": 19,
   "id": "afe96ed5",
   "metadata": {},
   "outputs": [
    {
     "data": {
      "image/png": "[encoded data removed]",
      "text/plain": [
       "<Figure size 576x576 with 2 Axes>"
      ]
     },
     "metadata": {
      "needs_background": "light"
     },
     "output_type": "display_data"
    }
   ],
   "source": [
    "#sayısal alanlardaki korelasyon\n",
    "corr_1 =train.corr()\n",
    "fig, ax = plt.subplots(figsize=(8, 8))\n",
    "sns.heatmap(corr_1, linewidths=.5, annot=True, fmt=\".2f\")\n",
    "plt.show()"
   ]
  },
  {
   "cell_type": "code",
   "execution_count": 97,
   "id": "ec95af12",
   "metadata": {},
   "outputs": [],
   "source": [
    "#ornek=np.array(train.groupby([\"ürün kategorisi\"]))\n",
    "#yer_fiyat=pd.DataFrame(train.groupby([\"ürün üretim yeri\",\"ürün kategorisi\"])[\"ürün fiyatı\"].mean())\n",
    "yer_fiyat= pd.DataFrame(train.groupby([\"ürün kategorisi\",\"ürün üretim yeri\"])[\"ürün fiyatı\"].mean())\n"
   ]
  },
  {
   "cell_type": "code",
   "execution_count": 93,
   "id": "60b61e6e",
   "metadata": {},
   "outputs": [
    {
     "data": {
      "text/html": [
       "<div>\n",
       "<style scoped>\n",
       "    .dataframe tbody tr th:only-of-type {\n",
       "        vertical-align: middle;\n",
       "    }\n",
       "\n",
       "    .dataframe tbody tr th {\n",
       "        vertical-align: top;\n",
       "    }\n",
       "\n",
       "    .dataframe thead th {\n",
       "        text-align: right;\n",
       "    }\n",
       "</style>\n",
       "<table border=\"1\" class=\"dataframe\">\n",
       "  <thead>\n",
       "    <tr style=\"text-align: right;\">\n",
       "      <th></th>\n",
       "      <th></th>\n",
       "      <th>ürün fiyatı</th>\n",
       "    </tr>\n",
       "    <tr>\n",
       "      <th>ürün üretim yeri</th>\n",
       "      <th>ürün kategorisi</th>\n",
       "      <th></th>\n",
       "    </tr>\n",
       "  </thead>\n",
       "  <tbody>\n",
       "    <tr>\n",
       "      <th rowspan=\"6\" valign=\"top\">Yurt dışı</th>\n",
       "      <th>et</th>\n",
       "      <td>35.748868</td>\n",
       "    </tr>\n",
       "    <tr>\n",
       "      <th>kuruyemiş</th>\n",
       "      <td>29.939331</td>\n",
       "    </tr>\n",
       "    <tr>\n",
       "      <th>meyve</th>\n",
       "      <td>9.989255</td>\n",
       "    </tr>\n",
       "    <tr>\n",
       "      <th>sebze ve bakliyat</th>\n",
       "      <td>14.908812</td>\n",
       "    </tr>\n",
       "    <tr>\n",
       "      <th>süt ürünleri ve kahvaltılık</th>\n",
       "      <td>25.578623</td>\n",
       "    </tr>\n",
       "    <tr>\n",
       "      <th>tahıl ve ürünleri</th>\n",
       "      <td>9.503344</td>\n",
       "    </tr>\n",
       "    <tr>\n",
       "      <th rowspan=\"6\" valign=\"top\">Yurt içi</th>\n",
       "      <th>et</th>\n",
       "      <td>35.697049</td>\n",
       "    </tr>\n",
       "    <tr>\n",
       "      <th>kuruyemiş</th>\n",
       "      <td>30.158968</td>\n",
       "    </tr>\n",
       "    <tr>\n",
       "      <th>meyve</th>\n",
       "      <td>9.996480</td>\n",
       "    </tr>\n",
       "    <tr>\n",
       "      <th>sebze ve bakliyat</th>\n",
       "      <td>14.910725</td>\n",
       "    </tr>\n",
       "    <tr>\n",
       "      <th>süt ürünleri ve kahvaltılık</th>\n",
       "      <td>25.660720</td>\n",
       "    </tr>\n",
       "    <tr>\n",
       "      <th>tahıl ve ürünleri</th>\n",
       "      <td>9.569253</td>\n",
       "    </tr>\n",
       "  </tbody>\n",
       "</table>\n",
       "</div>"
      ],
      "text/plain": [
       "                                              ürün fiyatı\n",
       "ürün üretim yeri ürün kategorisi                         \n",
       "Yurt dışı        et                             35.748868\n",
       "                 kuruyemiş                      29.939331\n",
       "                 meyve                           9.989255\n",
       "                 sebze ve bakliyat              14.908812\n",
       "                 süt ürünleri ve kahvaltılık    25.578623\n",
       "                 tahıl ve ürünleri               9.503344\n",
       "Yurt içi         et                             35.697049\n",
       "                 kuruyemiş                      30.158968\n",
       "                 meyve                           9.996480\n",
       "                 sebze ve bakliyat              14.910725\n",
       "                 süt ürünleri ve kahvaltılık    25.660720\n",
       "                 tahıl ve ürünleri               9.569253"
      ]
     },
     "execution_count": 93,
     "metadata": {},
     "output_type": "execute_result"
    }
   ],
   "source": [
    "yer_fiyat"
   ]
  },
  {
   "cell_type": "code",
   "execution_count": 108,
   "id": "4f59e981",
   "metadata": {},
   "outputs": [
    {
     "data": {
      "text/plain": [
       "[None, None, None, None, None, None, None, None, None, None, None, None]"
      ]
     },
     "execution_count": 108,
     "metadata": {},
     "output_type": "execute_result"
    },
    {
     "data": {
      "image/png": "[encoded data removed]",
      "text/plain": [
       "<Figure size 432x288 with 1 Axes>"
      ]
     },
     "metadata": {
      "needs_background": "light"
     },
     "output_type": "display_data"
    }
   ],
   "source": [
    "ax=sns.barplot(y=\"ürün fiyatı\",x=\"ürün kategorisi\",hue=\"ürün üretim yeri\",data=yer_fiyat.reset_index(),palette=\"Set2\")\n",
    "locs, labels = plt.xticks()\n",
    "plt.setp(labels, rotation=75)\n"
   ]
  },
  {
   "cell_type": "code",
   "execution_count": 110,
   "id": "1c6d1b83",
   "metadata": {},
   "outputs": [
    {
     "data": {
      "text/html": [
       "<div>\n",
       "<style scoped>\n",
       "    .dataframe tbody tr th:only-of-type {\n",
       "        vertical-align: middle;\n",
       "    }\n",
       "\n",
       "    .dataframe tbody tr th {\n",
       "        vertical-align: top;\n",
       "    }\n",
       "\n",
       "    .dataframe thead th {\n",
       "        text-align: right;\n",
       "    }\n",
       "</style>\n",
       "<table border=\"1\" class=\"dataframe\">\n",
       "  <thead>\n",
       "    <tr style=\"text-align: right;\">\n",
       "      <th></th>\n",
       "      <th></th>\n",
       "      <th>ürün fiyatı</th>\n",
       "    </tr>\n",
       "    <tr>\n",
       "      <th>ürün kategorisi</th>\n",
       "      <th>market</th>\n",
       "      <th></th>\n",
       "    </tr>\n",
       "  </thead>\n",
       "  <tbody>\n",
       "    <tr>\n",
       "      <th rowspan=\"3\" valign=\"top\">et</th>\n",
       "      <th>B</th>\n",
       "      <td>35.995198</td>\n",
       "    </tr>\n",
       "    <tr>\n",
       "      <th>C</th>\n",
       "      <td>35.507347</td>\n",
       "    </tr>\n",
       "    <tr>\n",
       "      <th>M</th>\n",
       "      <td>35.666330</td>\n",
       "    </tr>\n",
       "    <tr>\n",
       "      <th rowspan=\"3\" valign=\"top\">kuruyemiş</th>\n",
       "      <th>B</th>\n",
       "      <td>30.014744</td>\n",
       "    </tr>\n",
       "    <tr>\n",
       "      <th>C</th>\n",
       "      <td>30.032744</td>\n",
       "    </tr>\n",
       "    <tr>\n",
       "      <th>M</th>\n",
       "      <td>30.099960</td>\n",
       "    </tr>\n",
       "    <tr>\n",
       "      <th rowspan=\"3\" valign=\"top\">meyve</th>\n",
       "      <th>B</th>\n",
       "      <td>9.992151</td>\n",
       "    </tr>\n",
       "    <tr>\n",
       "      <th>C</th>\n",
       "      <td>9.958138</td>\n",
       "    </tr>\n",
       "    <tr>\n",
       "      <th>M</th>\n",
       "      <td>10.028312</td>\n",
       "    </tr>\n",
       "    <tr>\n",
       "      <th rowspan=\"3\" valign=\"top\">sebze ve bakliyat</th>\n",
       "      <th>B</th>\n",
       "      <td>14.944694</td>\n",
       "    </tr>\n",
       "    <tr>\n",
       "      <th>C</th>\n",
       "      <td>14.904890</td>\n",
       "    </tr>\n",
       "    <tr>\n",
       "      <th>M</th>\n",
       "      <td>14.879722</td>\n",
       "    </tr>\n",
       "    <tr>\n",
       "      <th rowspan=\"3\" valign=\"top\">süt ürünleri ve kahvaltılık</th>\n",
       "      <th>B</th>\n",
       "      <td>25.818628</td>\n",
       "    </tr>\n",
       "    <tr>\n",
       "      <th>C</th>\n",
       "      <td>25.539446</td>\n",
       "    </tr>\n",
       "    <tr>\n",
       "      <th>M</th>\n",
       "      <td>25.500941</td>\n",
       "    </tr>\n",
       "    <tr>\n",
       "      <th rowspan=\"3\" valign=\"top\">tahıl ve ürünleri</th>\n",
       "      <th>B</th>\n",
       "      <td>9.535002</td>\n",
       "    </tr>\n",
       "    <tr>\n",
       "      <th>C</th>\n",
       "      <td>9.521207</td>\n",
       "    </tr>\n",
       "    <tr>\n",
       "      <th>M</th>\n",
       "      <td>9.552688</td>\n",
       "    </tr>\n",
       "  </tbody>\n",
       "</table>\n",
       "</div>"
      ],
      "text/plain": [
       "                                    ürün fiyatı\n",
       "ürün kategorisi             market             \n",
       "et                          B         35.995198\n",
       "                            C         35.507347\n",
       "                            M         35.666330\n",
       "kuruyemiş                   B         30.014744\n",
       "                            C         30.032744\n",
       "                            M         30.099960\n",
       "meyve                       B          9.992151\n",
       "                            C          9.958138\n",
       "                            M         10.028312\n",
       "sebze ve bakliyat           B         14.944694\n",
       "                            C         14.904890\n",
       "                            M         14.879722\n",
       "süt ürünleri ve kahvaltılık B         25.818628\n",
       "                            C         25.539446\n",
       "                            M         25.500941\n",
       "tahıl ve ürünleri           B          9.535002\n",
       "                            C          9.521207\n",
       "                            M          9.552688"
      ]
     },
     "execution_count": 110,
     "metadata": {},
     "output_type": "execute_result"
    }
   ],
   "source": [
    "market_fiyat= pd.DataFrame(train.groupby([\"ürün kategorisi\",\"market\"])[\"ürün fiyatı\"].mean())\n",
    "market_fiyat"
   ]
  },
  {
   "cell_type": "code",
   "execution_count": 114,
   "id": "751457b7",
   "metadata": {},
   "outputs": [
    {
     "data": {
      "text/plain": [
       "[None, None, None, None, None, None, None, None, None, None, None, None]"
      ]
     },
     "execution_count": 114,
     "metadata": {},
     "output_type": "execute_result"
    },
    {
     "data": {
      "image/png": "[encoded data removed]",
      "text/plain": [
       "<Figure size 432x288 with 1 Axes>"
      ]
     },
     "metadata": {
      "needs_background": "light"
     },
     "output_type": "display_data"
    }
   ],
   "source": [
    "ax=sns.barplot(y=\"ürün fiyatı\",x=\"ürün kategorisi\",hue=\"market\",data=market_fiyat.reset_index())\n",
    "locs, labels = plt.xticks()\n",
    "plt.setp(labels, rotation=90)"
   ]
  },
  {
   "cell_type": "code",
   "execution_count": 100,
   "id": "269a13ed",
   "metadata": {},
   "outputs": [
    {
     "data": {
      "text/plain": [
       "<AxesSubplot:xlabel='ürün kategorisi,ürün üretim yeri'>"
      ]
     },
     "execution_count": 100,
     "metadata": {},
     "output_type": "execute_result"
    },
    {
     "data": {
      "image/png": "[encoded data removed]",
      "text/plain": [
       "<Figure size 432x288 with 1 Axes>"
      ]
     },
     "metadata": {
      "needs_background": "light"
     },
     "output_type": "display_data"
    }
   ],
   "source": [
    "#yer_fiyat.plot(kind='bar')"
   ]
  },
  {
   "cell_type": "code",
   "execution_count": 33,
   "id": "fbf6003b",
   "metadata": {},
   "outputs": [
    {
     "data": {
      "text/plain": [
       "Yurt içi     113760\n",
       "Yurt dışı    113760\n",
       "Name: ürün üretim yeri, dtype: int64"
      ]
     },
     "execution_count": 33,
     "metadata": {},
     "output_type": "execute_result"
    }
   ],
   "source": [
    "train[\"ürün üretim yeri\"].value_counts()"
   ]
  },
  {
   "cell_type": "code",
   "execution_count": 34,
   "id": "b3a64e9d",
   "metadata": {},
   "outputs": [
    {
     "data": {
      "text/plain": [
       "sebze ve bakliyat              83520\n",
       "meyve                          51840\n",
       "tahıl ve ürünleri              34560\n",
       "süt ürünleri ve kahvaltılık    34560\n",
       "kuruyemiş                      14400\n",
       "et                              8640\n",
       "Name: ürün kategorisi, dtype: int64"
      ]
     },
     "execution_count": 34,
     "metadata": {},
     "output_type": "execute_result"
    }
   ],
   "source": [
    "train[\"ürün kategorisi\"].value_counts()"
   ]
  },
  {
   "cell_type": "code",
   "execution_count": 35,
   "id": "2286eba1",
   "metadata": {},
   "outputs": [
    {
     "data": {
      "text/plain": [
       "array(['et', 'sebze ve bakliyat', 'tahıl ve ürünleri',\n",
       "       'süt ürünleri ve kahvaltılık', 'meyve', 'kuruyemiş'], dtype=object)"
      ]
     },
     "execution_count": 35,
     "metadata": {},
     "output_type": "execute_result"
    }
   ],
   "source": [
    "kategoriler=train[\"ürün kategorisi\"].unique()"
   ]
  },
  {
   "cell_type": "code",
   "execution_count": null,
   "id": "9d2ee516",
   "metadata": {},
   "outputs": [],
   "source": []
  }
 ],
 "metadata": {
  "kernelspec": {
   "display_name": "Python 3 (ipykernel)",
   "language": "python",
   "name": "python3"
  },
  "language_info": {
   "codemirror_mode": {
    "name": "ipython",
    "version": 3
   },
   "file_extension": ".py",
   "mimetype": "text/x-python",
   "name": "python",
   "nbconvert_exporter": "python",
   "pygments_lexer": "ipython3",
   "version": "3.9.7"
  }
 },
 "nbformat": 4,
 "nbformat_minor": 5
}
